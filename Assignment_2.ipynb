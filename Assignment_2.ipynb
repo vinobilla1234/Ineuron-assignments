{
 "cells": [
  {
   "cell_type": "code",
   "execution_count": 3,
   "id": "09ff8d7c",
   "metadata": {},
   "outputs": [
    {
     "data": {
      "text/plain": [
       "'1Q.Create the below pattern using nested for loop in Python'"
      ]
     },
     "execution_count": 3,
     "metadata": {},
     "output_type": "execute_result"
    }
   ],
   "source": [
    "\"1Q.Create the below pattern using nested for loop in Python\""
   ]
  },
  {
   "cell_type": "code",
   "execution_count": 4,
   "id": "6741c7df",
   "metadata": {},
   "outputs": [
    {
     "name": "stdout",
     "output_type": "stream",
     "text": [
      "* \r\n",
      "* * \r\n",
      "* * * \r\n",
      "* * * * \r\n",
      "* * * * * \r\n",
      "* * * * \r\n",
      "* * * \r\n",
      "* * \r\n",
      "* \r\n",
      "\r\n"
     ]
    }
   ],
   "source": [
    "for i in range(0,5):\n",
    "    for j in range(0,i+1):\n",
    "        print('*',end=' ')\n",
    "    print('\\r')\n",
    "    \n",
    "for i in range(5,0,-1):\n",
    "    for j in range(0,i-1):\n",
    "        print('*',end=' ')\n",
    "    print('\\r')"
   ]
  },
  {
   "cell_type": "code",
   "execution_count": 5,
   "id": "84bbd70e",
   "metadata": {},
   "outputs": [
    {
     "data": {
      "text/plain": [
       "'2Q.Write a Python program to reverse a word after accepting the input from the user.'"
      ]
     },
     "execution_count": 5,
     "metadata": {},
     "output_type": "execute_result"
    }
   ],
   "source": [
    "\"2Q.Write a Python program to reverse a word after accepting the input from the user.\""
   ]
  },
  {
   "cell_type": "code",
   "execution_count": 6,
   "id": "8044a956",
   "metadata": {},
   "outputs": [
    {
     "name": "stdout",
     "output_type": "stream",
     "text": [
      "Give a word: ineuron\n",
      "norueni\n"
     ]
    }
   ],
   "source": [
    "give_word = input('Give a word: ')\n",
    "print(give_word[::-1])\n"
   ]
  },
  {
   "cell_type": "code",
   "execution_count": null,
   "id": "cd582d7a",
   "metadata": {},
   "outputs": [],
   "source": []
  }
 ],
 "metadata": {
  "kernelspec": {
   "display_name": "Python 3 (ipykernel)",
   "language": "python",
   "name": "python3"
  },
  "language_info": {
   "codemirror_mode": {
    "name": "ipython",
    "version": 3
   },
   "file_extension": ".py",
   "mimetype": "text/x-python",
   "name": "python",
   "nbconvert_exporter": "python",
   "pygments_lexer": "ipython3",
   "version": "3.9.7"
  }
 },
 "nbformat": 4,
 "nbformat_minor": 5
}
